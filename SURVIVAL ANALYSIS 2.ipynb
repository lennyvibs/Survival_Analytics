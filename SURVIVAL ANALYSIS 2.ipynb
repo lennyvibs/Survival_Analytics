{
 "cells": [
  {
   "cell_type": "markdown",
   "id": "3b87ef03",
   "metadata": {},
   "source": [
    "# PATIENT DATASET\n",
    "Using the above dataset to do survival analyis and find the survival curve"
   ]
  },
  {
   "cell_type": "markdown",
   "id": "862d5061",
   "metadata": {},
   "source": [
    "## BUSINESS OBJECTIVE\n",
    "* Maximize Accuracy\n",
    "* Minimize Errors"
   ]
  },
  {
   "cell_type": "markdown",
   "id": "13ec6d84",
   "metadata": {},
   "source": [
    "## CONSTRAINTS\n",
    "* Negligience\n"
   ]
  },
  {
   "cell_type": "markdown",
   "id": "070c9b64",
   "metadata": {},
   "source": [
    "## DATA DICTIONARY"
   ]
  },
  {
   "cell_type": "markdown",
   "id": "1a47d442",
   "metadata": {},
   "source": [
    "| **slno** | **Name of Feature** | **Description**                                                                                                          | **Type** | **Relevance** |\n",
    "|:--------:|:-------------------|:--------------------------------------------------------------------------------------------------------------------------|:--------:|:-------------:|\n",
    "| 1 | PatientID | Identification of the following patient | Nominal    | Irrelevant     |\n",
    "| 2 | Followup | Time followup of post-hospitalization or post traumatic survillience| Binary    | Relevant      |\n",
    "| 3 | Eventtype | Events after a patient's death whether the patient is alive or not (0=Alive,1=death) | Binary | Relevant  |\n",
    "| 4 | Scenario  | Review of a patient | Nominal| Irrelevant     |\n"
   ]
  },
  {
   "cell_type": "markdown",
   "id": "46e5d637",
   "metadata": {},
   "source": [
    "Importing the required libraries."
   ]
  },
  {
   "cell_type": "code",
   "execution_count": 1,
   "id": "17e87c30",
   "metadata": {},
   "outputs": [],
   "source": [
    "import pandas as pd\n",
    "import numpy as np\n",
    "import matplotlib.pyplot as plt\n",
    "import seaborn as sns\n",
    "from scipy import stats\n",
    "from termcolor import colored\n",
    "import lifelines"
   ]
  },
  {
   "cell_type": "markdown",
   "id": "e26adb47",
   "metadata": {},
   "source": [
    "Loading the dataset using the pandas library and confirming the dataset has been loaded properly using the 'head' function"
   ]
  },
  {
   "cell_type": "code",
   "execution_count": 2,
   "id": "3fd16244",
   "metadata": {},
   "outputs": [
    {
     "data": {
      "text/html": [
       "<div>\n",
       "<style scoped>\n",
       "    .dataframe tbody tr th:only-of-type {\n",
       "        vertical-align: middle;\n",
       "    }\n",
       "\n",
       "    .dataframe tbody tr th {\n",
       "        vertical-align: top;\n",
       "    }\n",
       "\n",
       "    .dataframe thead th {\n",
       "        text-align: right;\n",
       "    }\n",
       "</style>\n",
       "<table border=\"1\" class=\"dataframe\">\n",
       "  <thead>\n",
       "    <tr style=\"text-align: right;\">\n",
       "      <th></th>\n",
       "      <th>PatientID</th>\n",
       "      <th>Followup</th>\n",
       "      <th>Eventtype</th>\n",
       "      <th>Scenario</th>\n",
       "    </tr>\n",
       "  </thead>\n",
       "  <tbody>\n",
       "    <tr>\n",
       "      <th>0</th>\n",
       "      <td>John</td>\n",
       "      <td>1.0</td>\n",
       "      <td>1</td>\n",
       "      <td>A</td>\n",
       "    </tr>\n",
       "    <tr>\n",
       "      <th>1</th>\n",
       "      <td>Jess</td>\n",
       "      <td>2.0</td>\n",
       "      <td>1</td>\n",
       "      <td>A</td>\n",
       "    </tr>\n",
       "    <tr>\n",
       "      <th>2</th>\n",
       "      <td>Ann</td>\n",
       "      <td>3.0</td>\n",
       "      <td>0</td>\n",
       "      <td>A</td>\n",
       "    </tr>\n",
       "    <tr>\n",
       "      <th>3</th>\n",
       "      <td>Mary</td>\n",
       "      <td>4.0</td>\n",
       "      <td>0</td>\n",
       "      <td>A</td>\n",
       "    </tr>\n",
       "    <tr>\n",
       "      <th>4</th>\n",
       "      <td>Frank</td>\n",
       "      <td>5.0</td>\n",
       "      <td>1</td>\n",
       "      <td>A</td>\n",
       "    </tr>\n",
       "  </tbody>\n",
       "</table>\n",
       "</div>"
      ],
      "text/plain": [
       "  PatientID  Followup  Eventtype Scenario\n",
       "0      John       1.0          1        A\n",
       "1      Jess       2.0          1        A\n",
       "2       Ann       3.0          0        A\n",
       "3      Mary       4.0          0        A\n",
       "4     Frank       5.0          1        A"
      ]
     },
     "execution_count": 2,
     "metadata": {},
     "output_type": "execute_result"
    }
   ],
   "source": [
    "df0 = pd.read_csv(r\"D:\\360Digitmg\\ASSIGNMENTS\\Ass27\\Patient.csv\")\n",
    "df=df0.copy()\n",
    "df.head()"
   ]
  },
  {
   "cell_type": "markdown",
   "id": "6b969727",
   "metadata": {},
   "source": [
    "### EXPLORATORY DATA ANALYSIS & FEATURE ENGINEERING"
   ]
  },
  {
   "cell_type": "markdown",
   "id": "89606ccd",
   "metadata": {},
   "source": [
    "The below three lines give a general idea about the dataset like the shape, type and non null values."
   ]
  },
  {
   "cell_type": "code",
   "execution_count": 3,
   "id": "46c129c5",
   "metadata": {},
   "outputs": [
    {
     "data": {
      "text/plain": [
       "(10, 4)"
      ]
     },
     "execution_count": 3,
     "metadata": {},
     "output_type": "execute_result"
    }
   ],
   "source": [
    "df.shape"
   ]
  },
  {
   "cell_type": "code",
   "execution_count": 4,
   "id": "16c1f67c",
   "metadata": {},
   "outputs": [
    {
     "data": {
      "text/plain": [
       "PatientID     object\n",
       "Followup     float64\n",
       "Eventtype      int64\n",
       "Scenario      object\n",
       "dtype: object"
      ]
     },
     "execution_count": 4,
     "metadata": {},
     "output_type": "execute_result"
    }
   ],
   "source": [
    "df.dtypes"
   ]
  },
  {
   "cell_type": "code",
   "execution_count": 5,
   "id": "414ae339",
   "metadata": {},
   "outputs": [
    {
     "name": "stdout",
     "output_type": "stream",
     "text": [
      "<class 'pandas.core.frame.DataFrame'>\n",
      "RangeIndex: 10 entries, 0 to 9\n",
      "Data columns (total 4 columns):\n",
      " #   Column     Non-Null Count  Dtype  \n",
      "---  ------     --------------  -----  \n",
      " 0   PatientID  10 non-null     object \n",
      " 1   Followup   10 non-null     float64\n",
      " 2   Eventtype  10 non-null     int64  \n",
      " 3   Scenario   10 non-null     object \n",
      "dtypes: float64(1), int64(1), object(2)\n",
      "memory usage: 448.0+ bytes\n"
     ]
    }
   ],
   "source": [
    "df.info()"
   ]
  },
  {
   "cell_type": "markdown",
   "id": "78ee999b",
   "metadata": {},
   "source": [
    "The describe function gives the count, min, max, mean, standard deviation and quantile values of the dataset."
   ]
  },
  {
   "cell_type": "code",
   "execution_count": 6,
   "id": "12c467cc",
   "metadata": {},
   "outputs": [
    {
     "data": {
      "text/html": [
       "<div>\n",
       "<style scoped>\n",
       "    .dataframe tbody tr th:only-of-type {\n",
       "        vertical-align: middle;\n",
       "    }\n",
       "\n",
       "    .dataframe tbody tr th {\n",
       "        vertical-align: top;\n",
       "    }\n",
       "\n",
       "    .dataframe thead th {\n",
       "        text-align: right;\n",
       "    }\n",
       "</style>\n",
       "<table border=\"1\" class=\"dataframe\">\n",
       "  <thead>\n",
       "    <tr style=\"text-align: right;\">\n",
       "      <th></th>\n",
       "      <th>Followup</th>\n",
       "      <th>Eventtype</th>\n",
       "    </tr>\n",
       "  </thead>\n",
       "  <tbody>\n",
       "    <tr>\n",
       "      <th>count</th>\n",
       "      <td>10.000000</td>\n",
       "      <td>10.000000</td>\n",
       "    </tr>\n",
       "    <tr>\n",
       "      <th>mean</th>\n",
       "      <td>5.420000</td>\n",
       "      <td>0.600000</td>\n",
       "    </tr>\n",
       "    <tr>\n",
       "      <th>std</th>\n",
       "      <td>2.993994</td>\n",
       "      <td>0.516398</td>\n",
       "    </tr>\n",
       "    <tr>\n",
       "      <th>min</th>\n",
       "      <td>1.000000</td>\n",
       "      <td>0.000000</td>\n",
       "    </tr>\n",
       "    <tr>\n",
       "      <th>25%</th>\n",
       "      <td>3.250000</td>\n",
       "      <td>0.000000</td>\n",
       "    </tr>\n",
       "    <tr>\n",
       "      <th>50%</th>\n",
       "      <td>5.500000</td>\n",
       "      <td>1.000000</td>\n",
       "    </tr>\n",
       "    <tr>\n",
       "      <th>75%</th>\n",
       "      <td>7.550000</td>\n",
       "      <td>1.000000</td>\n",
       "    </tr>\n",
       "    <tr>\n",
       "      <th>max</th>\n",
       "      <td>10.000000</td>\n",
       "      <td>1.000000</td>\n",
       "    </tr>\n",
       "  </tbody>\n",
       "</table>\n",
       "</div>"
      ],
      "text/plain": [
       "        Followup  Eventtype\n",
       "count  10.000000  10.000000\n",
       "mean    5.420000   0.600000\n",
       "std     2.993994   0.516398\n",
       "min     1.000000   0.000000\n",
       "25%     3.250000   0.000000\n",
       "50%     5.500000   1.000000\n",
       "75%     7.550000   1.000000\n",
       "max    10.000000   1.000000"
      ]
     },
     "execution_count": 6,
     "metadata": {},
     "output_type": "execute_result"
    }
   ],
   "source": [
    "df.describe()"
   ]
  },
  {
   "cell_type": "markdown",
   "id": "f7717389",
   "metadata": {},
   "source": [
    "Checking the Number of Duplicates in the Dataset."
   ]
  },
  {
   "cell_type": "code",
   "execution_count": 7,
   "id": "7e5d1006",
   "metadata": {},
   "outputs": [
    {
     "name": "stdout",
     "output_type": "stream",
     "text": [
      "\u001b[1m\u001b[34m Number of Duplicate values: \u001b[0m 0\n"
     ]
    }
   ],
   "source": [
    "duplicate_values=df.duplicated(subset=None,keep='first').sum()\n",
    "print(colored(' Number of Duplicate values: ','blue',attrs=['bold']),duplicate_values)"
   ]
  },
  {
   "cell_type": "markdown",
   "id": "596b1b85",
   "metadata": {},
   "source": [
    "Checking the Number and Percentage of Missing Values in the Dataset."
   ]
  },
  {
   "cell_type": "code",
   "execution_count": 8,
   "id": "72d872c0",
   "metadata": {},
   "outputs": [
    {
     "name": "stdout",
     "output_type": "stream",
     "text": [
      "\u001b[1m\u001b[34mNumber of Missing Values\n",
      "\n",
      "\u001b[0m PatientID    0\n",
      "Followup     0\n",
      "Eventtype    0\n",
      "Scenario     0\n",
      "dtype: int64\n"
     ]
    }
   ],
   "source": [
    "missing=df.isna().sum().sort_values(ascending=False)\n",
    "print(colored(\"Number of Missing Values\\n\\n\",'blue',attrs=['bold']),missing)"
   ]
  },
  {
   "cell_type": "code",
   "execution_count": 9,
   "id": "422f0bc7",
   "metadata": {},
   "outputs": [
    {
     "name": "stdout",
     "output_type": "stream",
     "text": [
      "\u001b[1m\u001b[34mNumber of Unique Values:\n",
      "\n",
      "\u001b[0m PatientID    10\n",
      "Followup     10\n",
      "Eventtype     2\n",
      "Scenario      1\n",
      "dtype: int64\n"
     ]
    }
   ],
   "source": [
    "print(colored('Number of Unique Values:\\n\\n','blue',attrs=['bold']),df.nunique())"
   ]
  },
  {
   "cell_type": "markdown",
   "id": "44a38228",
   "metadata": {},
   "source": [
    "Droping the columns which has just one value throughout. "
   ]
  },
  {
   "cell_type": "code",
   "execution_count": 10,
   "id": "1834ac28",
   "metadata": {},
   "outputs": [
    {
     "data": {
      "text/html": [
       "<div>\n",
       "<style scoped>\n",
       "    .dataframe tbody tr th:only-of-type {\n",
       "        vertical-align: middle;\n",
       "    }\n",
       "\n",
       "    .dataframe tbody tr th {\n",
       "        vertical-align: top;\n",
       "    }\n",
       "\n",
       "    .dataframe thead th {\n",
       "        text-align: right;\n",
       "    }\n",
       "</style>\n",
       "<table border=\"1\" class=\"dataframe\">\n",
       "  <thead>\n",
       "    <tr style=\"text-align: right;\">\n",
       "      <th></th>\n",
       "      <th>PatientID</th>\n",
       "      <th>Followup</th>\n",
       "      <th>Eventtype</th>\n",
       "    </tr>\n",
       "  </thead>\n",
       "  <tbody>\n",
       "    <tr>\n",
       "      <th>0</th>\n",
       "      <td>John</td>\n",
       "      <td>1.0</td>\n",
       "      <td>1</td>\n",
       "    </tr>\n",
       "    <tr>\n",
       "      <th>1</th>\n",
       "      <td>Jess</td>\n",
       "      <td>2.0</td>\n",
       "      <td>1</td>\n",
       "    </tr>\n",
       "    <tr>\n",
       "      <th>2</th>\n",
       "      <td>Ann</td>\n",
       "      <td>3.0</td>\n",
       "      <td>0</td>\n",
       "    </tr>\n",
       "    <tr>\n",
       "      <th>3</th>\n",
       "      <td>Mary</td>\n",
       "      <td>4.0</td>\n",
       "      <td>0</td>\n",
       "    </tr>\n",
       "    <tr>\n",
       "      <th>4</th>\n",
       "      <td>Frank</td>\n",
       "      <td>5.0</td>\n",
       "      <td>1</td>\n",
       "    </tr>\n",
       "  </tbody>\n",
       "</table>\n",
       "</div>"
      ],
      "text/plain": [
       "  PatientID  Followup  Eventtype\n",
       "0      John       1.0          1\n",
       "1      Jess       2.0          1\n",
       "2       Ann       3.0          0\n",
       "3      Mary       4.0          0\n",
       "4     Frank       5.0          1"
      ]
     },
     "execution_count": 10,
     "metadata": {},
     "output_type": "execute_result"
    }
   ],
   "source": [
    "df.drop(['Scenario'],axis=1,inplace=True)\n",
    "df.head()"
   ]
  },
  {
   "cell_type": "markdown",
   "id": "f658e768",
   "metadata": {},
   "source": [
    "### First Moment Business Decision or Measures of Central Tendency.\n",
    "* It gives the mean, median and mode values of the dataset.\n",
    "* Mean is the average of the data and it easily gets influenced by the outliers.\n",
    "* Median is the middle most value of the dataset.\n",
    "* Mode is the most repeated value of the dataset.\n",
    "* If the mean, median & mode are same then the data has normal distribution otherwise the distribution is not normal."
   ]
  },
  {
   "cell_type": "code",
   "execution_count": 11,
   "id": "c8ffae12",
   "metadata": {},
   "outputs": [
    {
     "name": "stderr",
     "output_type": "stream",
     "text": [
      "C:\\Users\\lenny\\AppData\\Local\\Temp\\ipykernel_13100\\3698961737.py:1: FutureWarning: Dropping of nuisance columns in DataFrame reductions (with 'numeric_only=None') is deprecated; in a future version this will raise TypeError.  Select only valid columns before calling the reduction.\n",
      "  df.mean()\n"
     ]
    },
    {
     "data": {
      "text/plain": [
       "Followup     5.42\n",
       "Eventtype    0.60\n",
       "dtype: float64"
      ]
     },
     "execution_count": 11,
     "metadata": {},
     "output_type": "execute_result"
    }
   ],
   "source": [
    "df.mean()"
   ]
  },
  {
   "cell_type": "code",
   "execution_count": 12,
   "id": "457e7aa8",
   "metadata": {},
   "outputs": [
    {
     "name": "stderr",
     "output_type": "stream",
     "text": [
      "C:\\Users\\lenny\\AppData\\Local\\Temp\\ipykernel_13100\\530051474.py:1: FutureWarning: Dropping of nuisance columns in DataFrame reductions (with 'numeric_only=None') is deprecated; in a future version this will raise TypeError.  Select only valid columns before calling the reduction.\n",
      "  df.median()\n"
     ]
    },
    {
     "data": {
      "text/plain": [
       "Followup     5.5\n",
       "Eventtype    1.0\n",
       "dtype: float64"
      ]
     },
     "execution_count": 12,
     "metadata": {},
     "output_type": "execute_result"
    }
   ],
   "source": [
    "df.median()"
   ]
  },
  {
   "cell_type": "code",
   "execution_count": 13,
   "id": "b828d378",
   "metadata": {},
   "outputs": [
    {
     "name": "stderr",
     "output_type": "stream",
     "text": [
      "C:\\Users\\lenny\\AppData\\Local\\Temp\\ipykernel_13100\\4235401754.py:1: FutureWarning: Unlike other reduction functions (e.g. `skew`, `kurtosis`), the default behavior of `mode` typically preserves the axis it acts along. In SciPy 1.11.0, this behavior will change: the default value of `keepdims` will become False, the `axis` over which the statistic is taken will be eliminated, and the value None will no longer be accepted. Set `keepdims` to True or False to avoid this warning.\n",
      "  stats.mode(df)\n",
      "C:\\Users\\lenny\\anaconda3\\lib\\site-packages\\scipy\\stats\\_stats_py.py:110: RuntimeWarning: The input array could not be properly checked for nan values. nan values will be ignored.\n",
      "  warnings.warn(\"The input array could not be properly \"\n",
      "C:\\Users\\lenny\\AppData\\Local\\Temp\\ipykernel_13100\\4235401754.py:1: DeprecationWarning: Support for non-numeric arrays has been deprecated as of SciPy 1.9.0 and will be removed in 1.11.0. `pandas.DataFrame.mode` can be used instead, see https://pandas.pydata.org/docs/reference/api/pandas.DataFrame.mode.html.\n",
      "  stats.mode(df)\n"
     ]
    },
    {
     "data": {
      "text/plain": [
       "ModeResult(mode=array([['John', 1.0, 1]], dtype=object), count=array([[1, 1, 6]]))"
      ]
     },
     "execution_count": 13,
     "metadata": {},
     "output_type": "execute_result"
    }
   ],
   "source": [
    "stats.mode(df)"
   ]
  },
  {
   "cell_type": "markdown",
   "id": "ff80d2c1",
   "metadata": {},
   "source": [
    "### Second Moment Business Decision or Measures of Dispersion\n",
    "* It contains Variance, Standard Deviation & Range.\n",
    "* It gives a general idea about the spread of data in the dataset.\n",
    "* Variance is the average squared distance of each data point from the mean.\n",
    "* Standard deviation is the root of the variance.\n",
    "* Range is the difference between the max and min data point of the dataset."
   ]
  },
  {
   "cell_type": "code",
   "execution_count": 14,
   "id": "437c14a9",
   "metadata": {},
   "outputs": [
    {
     "name": "stderr",
     "output_type": "stream",
     "text": [
      "C:\\Users\\lenny\\AppData\\Local\\Temp\\ipykernel_13100\\1568254755.py:1: FutureWarning: Dropping of nuisance columns in DataFrame reductions (with 'numeric_only=None') is deprecated; in a future version this will raise TypeError.  Select only valid columns before calling the reduction.\n",
      "  df.var()\n"
     ]
    },
    {
     "data": {
      "text/plain": [
       "Followup     8.964000\n",
       "Eventtype    0.266667\n",
       "dtype: float64"
      ]
     },
     "execution_count": 14,
     "metadata": {},
     "output_type": "execute_result"
    }
   ],
   "source": [
    "df.var()"
   ]
  },
  {
   "cell_type": "code",
   "execution_count": 15,
   "id": "f2adb8c6",
   "metadata": {},
   "outputs": [
    {
     "name": "stderr",
     "output_type": "stream",
     "text": [
      "C:\\Users\\lenny\\AppData\\Local\\Temp\\ipykernel_13100\\3390915376.py:1: FutureWarning: Dropping of nuisance columns in DataFrame reductions (with 'numeric_only=None') is deprecated; in a future version this will raise TypeError.  Select only valid columns before calling the reduction.\n",
      "  df.std()\n"
     ]
    },
    {
     "data": {
      "text/plain": [
       "Followup     2.993994\n",
       "Eventtype    0.516398\n",
       "dtype: float64"
      ]
     },
     "execution_count": 15,
     "metadata": {},
     "output_type": "execute_result"
    }
   ],
   "source": [
    "df.std()"
   ]
  },
  {
   "cell_type": "markdown",
   "id": "28a243e8",
   "metadata": {},
   "source": [
    "### THIRD MOMENT BUSINESS DECISION OR SKEWNESS\n",
    "* Skewness gives the measure of asymmetry in a data.\n",
    "* The types of skewness are as follows:\n",
    "    * Negative skewness or left skewed.\n",
    "    * Positive skewness or right skewed.\n",
    "    * If skewness = 0 then it is normally distributed."
   ]
  },
  {
   "cell_type": "code",
   "execution_count": 16,
   "id": "4a418d49",
   "metadata": {},
   "outputs": [
    {
     "name": "stderr",
     "output_type": "stream",
     "text": [
      "C:\\Users\\lenny\\AppData\\Local\\Temp\\ipykernel_13100\\1665899112.py:1: FutureWarning: Dropping of nuisance columns in DataFrame reductions (with 'numeric_only=None') is deprecated; in a future version this will raise TypeError.  Select only valid columns before calling the reduction.\n",
      "  df.skew()\n"
     ]
    },
    {
     "data": {
      "text/plain": [
       "Followup     0.084536\n",
       "Eventtype   -0.484123\n",
       "dtype: float64"
      ]
     },
     "execution_count": 16,
     "metadata": {},
     "output_type": "execute_result"
    }
   ],
   "source": [
    "df.skew()"
   ]
  },
  {
   "cell_type": "markdown",
   "id": "66e9277b",
   "metadata": {},
   "source": [
    "### FOURTH MOMENT BUSINESS DECISION OR KURTOSIS\n",
    "* Kurtosis is the peakedness of the distribution.\n",
    "* Negative kurtosis implies a wider peak and thinner tails.\n",
    "* Positive kurtosis implies a narrow peak and wider tails."
   ]
  },
  {
   "cell_type": "code",
   "execution_count": 17,
   "id": "488baf39",
   "metadata": {
    "scrolled": true
   },
   "outputs": [
    {
     "name": "stderr",
     "output_type": "stream",
     "text": [
      "C:\\Users\\lenny\\AppData\\Local\\Temp\\ipykernel_13100\\1257127604.py:1: FutureWarning: Dropping of nuisance columns in DataFrame reductions (with 'numeric_only=None') is deprecated; in a future version this will raise TypeError.  Select only valid columns before calling the reduction.\n",
      "  df.kurt()\n"
     ]
    },
    {
     "data": {
      "text/plain": [
       "Followup    -1.063759\n",
       "Eventtype   -2.276786\n",
       "dtype: float64"
      ]
     },
     "execution_count": 17,
     "metadata": {},
     "output_type": "execute_result"
    }
   ],
   "source": [
    "df.kurt()"
   ]
  },
  {
   "cell_type": "markdown",
   "id": "55e7aebe",
   "metadata": {},
   "source": [
    "### GRAPHICAL REPRESENTATION"
   ]
  },
  {
   "cell_type": "markdown",
   "id": "7f7befb7",
   "metadata": {},
   "source": [
    "Plotting histograms of each variable."
   ]
  },
  {
   "cell_type": "code",
   "execution_count": 18,
   "id": "e440e9fa",
   "metadata": {},
   "outputs": [
    {
     "data": {
      "image/png": "[encoded data removed]",
      "text/plain": [
       "<Figure size 504x504 with 2 Axes>"
      ]
     },
     "metadata": {
      "needs_background": "light"
     },
     "output_type": "display_data"
    }
   ],
   "source": [
    "df.hist(alpha=0.5, figsize=(7, 7), color='green')\n",
    "plt.show()"
   ]
  },
  {
   "cell_type": "markdown",
   "id": "ba8160cd",
   "metadata": {},
   "source": [
    "Plotting the pairplots. "
   ]
  },
  {
   "cell_type": "code",
   "execution_count": 19,
   "id": "19a53bc6",
   "metadata": {},
   "outputs": [
    {
     "data": {
      "text/plain": [
       "<Figure size 432x288 with 0 Axes>"
      ]
     },
     "metadata": {},
     "output_type": "display_data"
    },
    {
     "data": {
      "image/png": "[encoded data removed]",
      "text/plain": [
       "<Figure size 360x360 with 6 Axes>"
      ]
     },
     "metadata": {
      "needs_background": "light"
     },
     "output_type": "display_data"
    }
   ],
   "source": [
    "plt.figure()\n",
    "sns.pairplot(df)\n",
    "plt.show()"
   ]
  },
  {
   "cell_type": "code",
   "execution_count": 20,
   "id": "53551e11",
   "metadata": {},
   "outputs": [
    {
     "data": {
      "image/png": "[encoded data removed]",
      "text/plain": [
       "<Figure size 432x288 with 1 Axes>"
      ]
     },
     "metadata": {
      "needs_background": "light"
     },
     "output_type": "display_data"
    }
   ],
   "source": [
    "sns.boxplot(x='Eventtype', y='Followup', data=df)\n",
    "plt.show()"
   ]
  },
  {
   "cell_type": "markdown",
   "id": "9cac707b",
   "metadata": {},
   "source": [
    "The variable Followup refers to the time and assigned to 'T' while the Eventtype variable is the event and assigned to 'E'"
   ]
  },
  {
   "cell_type": "code",
   "execution_count": 21,
   "id": "dd308a7a",
   "metadata": {},
   "outputs": [],
   "source": [
    "T = df.Followup\n",
    "E = df.Eventtype"
   ]
  },
  {
   "cell_type": "markdown",
   "id": "25f6691c",
   "metadata": {},
   "source": [
    "### MODEL BUILDING"
   ]
  },
  {
   "cell_type": "markdown",
   "id": "fb7628c6",
   "metadata": {},
   "source": [
    "__Survival Analysis__\n",
    "\n",
    "The survival analysis is based on the probability that the event of interest has not occurred at time t. A Survival function(Event) depending on time S(t) is generally used to represent that probability.\n",
    "\n",
    "S(t)=P(T>t)\n",
    "\n",
    "In other words, S(t) corresponds to the probability of survival after time t . Here, T corresponds to the random lifetime taken from the population. Note that S(t) is between zero and one (inclusive), and S(t) is a decreasing function of t ."
   ]
  },
  {
   "cell_type": "markdown",
   "id": "3162b9b4",
   "metadata": {},
   "source": [
    "Importing the KaplanMeierFitter model to fit the survival analysis"
   ]
  },
  {
   "cell_type": "code",
   "execution_count": 22,
   "id": "b251466d",
   "metadata": {},
   "outputs": [],
   "source": [
    "from lifelines import KaplanMeierFitter"
   ]
  },
  {
   "cell_type": "markdown",
   "id": "12516f74",
   "metadata": {},
   "source": [
    "Initiating the KaplanMeierFitter model"
   ]
  },
  {
   "cell_type": "code",
   "execution_count": 23,
   "id": "e3a65b81",
   "metadata": {},
   "outputs": [],
   "source": [
    "kmf = KaplanMeierFitter()"
   ]
  },
  {
   "cell_type": "markdown",
   "id": "7e790e8c",
   "metadata": {},
   "source": [
    "Fitting KaplanMeierFitter model on Time and Events for death "
   ]
  },
  {
   "cell_type": "code",
   "execution_count": 24,
   "id": "68bed693",
   "metadata": {},
   "outputs": [
    {
     "data": {
      "text/plain": [
       "<lifelines.KaplanMeierFitter:\"KM_estimate\", fitted with 10 total observations, 4 right-censored observations>"
      ]
     },
     "execution_count": 24,
     "metadata": {},
     "output_type": "execute_result"
    }
   ],
   "source": [
    "kmf.fit(T, E)"
   ]
  },
  {
   "cell_type": "markdown",
   "id": "55096162",
   "metadata": {},
   "source": [
    "Time-line estimations plot "
   ]
  },
  {
   "cell_type": "code",
   "execution_count": 25,
   "id": "c23417ab",
   "metadata": {},
   "outputs": [
    {
     "data": {
      "image/png": "[encoded data removed]",
      "text/plain": [
       "<Figure size 432x288 with 1 Axes>"
      ]
     },
     "metadata": {
      "needs_background": "light"
     },
     "output_type": "display_data"
    }
   ],
   "source": [
    "kmf.plot()\n",
    "plt.title(\"Kaplan Meier estimates\")\n",
    "plt.xlabel(\"Followup\")\n",
    "plt.ylabel(\"Probaility Event has not occured \")\n",
    "plt.show()"
   ]
  },
  {
   "cell_type": "markdown",
   "id": "ffb6aa01",
   "metadata": {},
   "source": [
    "From the above time-line plot we can understand that the chances of the event not occuring is very high initially but after 6.2 followups the chances of event occuring is more as seen above."
   ]
  },
  {
   "cell_type": "code",
   "execution_count": 26,
   "id": "b96e7a43",
   "metadata": {
    "scrolled": false
   },
   "outputs": [
    {
     "name": "stdout",
     "output_type": "stream",
     "text": [
      "The median survival time : 6.2\n"
     ]
    }
   ],
   "source": [
    "print(\"The median survival time :\",kmf.median_survival_time_)"
   ]
  },
  {
   "cell_type": "markdown",
   "id": "9ea44a31",
   "metadata": {},
   "source": [
    "Given below is the KM_estimate that gives the probability of event not happening after the followup."
   ]
  },
  {
   "cell_type": "code",
   "execution_count": 27,
   "id": "e130dc47",
   "metadata": {},
   "outputs": [
    {
     "name": "stdout",
     "output_type": "stream",
     "text": [
      "          KM_estimate\n",
      "timeline             \n",
      "0.0          1.000000\n",
      "1.0          0.900000\n",
      "2.0          0.800000\n",
      "3.0          0.800000\n",
      "4.0          0.800000\n",
      "5.0          0.666667\n",
      "6.0          0.533333\n",
      "6.2          0.400000\n",
      "8.0          0.400000\n",
      "9.0          0.200000\n",
      "10.0         0.200000\n"
     ]
    }
   ],
   "source": [
    "print(kmf.survival_function_)"
   ]
  },
  {
   "cell_type": "markdown",
   "id": "a21d345c",
   "metadata": {},
   "source": [
    "### CONCLUSION"
   ]
  },
  {
   "cell_type": "markdown",
   "id": "0b834251",
   "metadata": {},
   "source": [
    "The survival analysis helped us to determine distributions given the Kaplan survival plots. "
   ]
  },
  {
   "cell_type": "code",
   "execution_count": null,
   "id": "86b3436d",
   "metadata": {},
   "outputs": [],
   "source": []
  }
 ],
 "metadata": {
  "kernelspec": {
   "display_name": "Python 3 (ipykernel)",
   "language": "python",
   "name": "python3"
  },
  "language_info": {
   "codemirror_mode": {
    "name": "ipython",
    "version": 3
   },
   "file_extension": ".py",
   "mimetype": "text/x-python",
   "name": "python",
   "nbconvert_exporter": "python",
   "pygments_lexer": "ipython3",
   "version": "3.9.12"
  }
 },
 "nbformat": 4,
 "nbformat_minor": 5
}
